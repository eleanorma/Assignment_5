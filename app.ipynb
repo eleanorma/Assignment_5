{
 "cells": [
  {
   "cell_type": "code",
   "execution_count": null,
   "id": "66b03aa5",
   "metadata": {},
   "outputs": [
    {
     "name": "stdout",
     "output_type": "stream",
     "text": [
      " * Serving Flask app \"__main__\" (lazy loading)\n",
      " * Environment: production\n",
      "\u001b[31m   WARNING: This is a development server. Do not use it in a production deployment.\u001b[0m\n",
      "\u001b[2m   Use a production WSGI server instead.\u001b[0m\n",
      " * Debug mode: off\n"
     ]
    },
    {
     "name": "stderr",
     "output_type": "stream",
     "text": [
      " * Running on http://localhost:9002/ (Press CTRL+C to quit)\n",
      "127.0.0.1 - - [17/Oct/2021 21:55:23] \"\u001b[37mGET / HTTP/1.1\u001b[0m\" 200 -\n",
      "127.0.0.1 - - [17/Oct/2021 21:55:32] \"\u001b[37mGET / HTTP/1.1\u001b[0m\" 200 -\n",
      "127.0.0.1 - - [17/Oct/2021 21:55:43] \"\u001b[37mGET /about HTTP/1.1\u001b[0m\" 200 -\n",
      "127.0.0.1 - - [17/Oct/2021 21:55:47] \"\u001b[37mGET / HTTP/1.1\u001b[0m\" 200 -\n",
      "127.0.0.1 - - [17/Oct/2021 21:55:47] \"\u001b[37mGET /about HTTP/1.1\u001b[0m\" 200 -\n",
      "127.0.0.1 - - [17/Oct/2021 21:55:48] \"\u001b[37mGET /products HTTP/1.1\u001b[0m\" 200 -\n",
      "127.0.0.1 - - [17/Oct/2021 21:55:54] \"\u001b[37mGET /store HTTP/1.1\u001b[0m\" 200 -\n"
     ]
    }
   ],
   "source": [
    "from flask import Flask, redirect, url_for, render_template\n",
    "import pandas as pd\n",
    "\n",
    "app = Flask(__name__)\n",
    "\n",
    "@app.route(\"/\")\n",
    "def index():\n",
    "    prices = [{'coffee type': 'Espresso', 'price': '$3' },\n",
    "              {'coffee type': 'Latte', 'price': '$4' },\n",
    "              {'coffee type': 'Americano', 'price': '$3' },\n",
    "              {'coffee type': 'Mocha Latte', 'price': '$5' }]\n",
    "    \n",
    "    df = pd.DataFrame(prices)\n",
    "    df.to_csv('prices.csv',mode='w',index=False)\n",
    "    df = pd.read_csv(\"prices.csv\")\n",
    "    list = df.to_dict('records')\n",
    "    return render_template(\"index.html\", entries = list)\n",
    "\n",
    "@app.route(\"/products\")\n",
    "def products():\n",
    "    return render_template(\"products.html\")\n",
    "\n",
    "@app.route(\"/store\")\n",
    "def store():\n",
    "    return render_template(\"store.html\")\n",
    "\n",
    "@app.route(\"/about\")\n",
    "def about():\n",
    "    return render_template(\"about.html\")\n",
    "\n",
    "if __name__ == \"__main__\":\n",
    "    app.run('localhost', 9002)"
   ]
  },
  {
   "cell_type": "code",
   "execution_count": null,
   "id": "95bbf426",
   "metadata": {},
   "outputs": [],
   "source": []
  }
 ],
 "metadata": {
  "kernelspec": {
   "display_name": "Python 3",
   "language": "python",
   "name": "python3"
  },
  "language_info": {
   "codemirror_mode": {
    "name": "ipython",
    "version": 3
   },
   "file_extension": ".py",
   "mimetype": "text/x-python",
   "name": "python",
   "nbconvert_exporter": "python",
   "pygments_lexer": "ipython3",
   "version": "3.8.8"
  }
 },
 "nbformat": 4,
 "nbformat_minor": 5
}
